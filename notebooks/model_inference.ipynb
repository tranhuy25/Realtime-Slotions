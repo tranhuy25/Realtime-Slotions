{
 "cells": [
  {
   "cell_type": "code",
   "execution_count": null,
   "metadata": {},
   "outputs": [],
   "source": [
    "# Model Inference for Sentiment Analysis\n",
    "\n",
    "## Import Libraries\n",
    "\n",
    "```python\n",
    "from transformers import BertTokenizer, BertForSequenceClassification\n",
    "import torch\n",
    "\n",
    "## Load Model and Tokenizer\n",
    "\n",
    "```python\n",
    "model = BertForSequenceClassification.from_pretrained('models/sentiment_model')\n",
    "tokenizer = BertTokenizer.from_pretrained('models/sentiment_model')\n",
    "\n",
    "## Define Inference Function\n",
    "\n",
    "```python\n",
    "def predict_sentiment(text):\n",
    "    inputs = tokenizer(text, return_tensors='pt', padding='max_length', truncation=True, max_length=128)\n",
    "    outputs = model(**inputs)\n",
    "    prediction = torch.argmax(outputs.logits, dim=1).item()\n",
    "    return 'positive' if prediction == 1 else 'negative'\n",
    "\n",
    "## Run Inference\n",
    "\n",
    "```python\n",
    "text = \"The new feature is amazing!\"\n",
    "print(f\"Sentiment: {predict_sentiment(text)}\")\n"
   ]
  }
 ],
 "metadata": {
  "language_info": {
   "name": "python"
  }
 },
 "nbformat": 4,
 "nbformat_minor": 2
}
