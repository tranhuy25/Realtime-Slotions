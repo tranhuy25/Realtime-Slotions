{
 "cells": [
  {
   "cell_type": "code",
   "execution_count": null,
   "metadata": {},
   "outputs": [],
   "source": [
    "# Data Preprocessing for Sentiment Analysis\n",
    "\n",
    "## Import Libraries\n",
    "\n",
    "```python\n",
    "import pandas as pd\n",
    "import re\n",
    "from sklearn.model_selection import train_test_split\n",
    "\n",
    "## Load Data\n",
    "\n",
    "```python\n",
    "# Đọc dữ liệu từ file CSV\n",
    "df = pd.read_csv('data/sentiment_data_extended.csv')\n",
    "\n",
    "## Text Cleaning Function\n",
    "\n",
    "```python\n",
    "# Hàm làm sạch văn bản\n",
    "def clean_text(text):\n",
    "    text = re.sub(r'[^a-zA-Z0-9\\s]', '', text)\n",
    "    text = text.lower()\n",
    "    return text\n",
    "\n",
    "df['text'] = df['text'].apply(clean_text)\n",
    "\n",
    "## Split Data\n",
    "\n",
    "```python\n",
    "# Chia dữ liệu thành tập huấn luyện và kiểm tra\n",
    "train_df, test_df = train_test_split(df, test_size=0.2, random_state=42)\n",
    "\n",
    "# Lưu dữ liệu đã xử lý ra các file mới\n",
    "train_df.to_csv('data/train_data.csv', index=False)\n",
    "test_df.to_csv('data/test_data.csv', index=False)\n",
    "\n",
    "print(\"Dữ liệu đã được tiền xử lý và lưu thành công.\")\n"
   ]
  }
 ],
 "metadata": {
  "language_info": {
   "name": "python"
  }
 },
 "nbformat": 4,
 "nbformat_minor": 2
}
